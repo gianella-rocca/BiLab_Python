{
 "cells": [
  {
   "cell_type": "markdown",
   "id": "4582e715",
   "metadata": {},
   "source": [
    "# TUPLE"
   ]
  },
  {
   "cell_type": "code",
   "execution_count": 1,
   "id": "23bf17c0",
   "metadata": {},
   "outputs": [],
   "source": [
    "tuple1 = (\"Orange\", [10, 20, 30], (5, 15, 25))\n"
   ]
  },
  {
   "cell_type": "markdown",
   "id": "22520671",
   "metadata": {},
   "source": [
    "1."
   ]
  },
  {
   "cell_type": "code",
   "execution_count": 2,
   "id": "eaf8da5a",
   "metadata": {},
   "outputs": [
    {
     "name": "stdout",
     "output_type": "stream",
     "text": [
      "10\n"
     ]
    }
   ],
   "source": [
    "print(tuple1 [1][0])"
   ]
  },
  {
   "cell_type": "markdown",
   "id": "b7e7c80d",
   "metadata": {},
   "source": [
    "Explanation: each element is separated by a comma, so the second element is [10, 20, 30] and the first element of this element is 10."
   ]
  },
  {
   "cell_type": "markdown",
   "id": "0d7e8a3e",
   "metadata": {},
   "source": [
    "2."
   ]
  },
  {
   "cell_type": "code",
   "execution_count": 3,
   "id": "c6fd0fd3",
   "metadata": {},
   "outputs": [
    {
     "name": "stdout",
     "output_type": "stream",
     "text": [
      "(5, 15, 25)\n"
     ]
    }
   ],
   "source": [
    "print ( tuple1[-1])\n"
   ]
  },
  {
   "cell_type": "markdown",
   "id": "4a573341",
   "metadata": {},
   "source": [
    "Explanation: To print the last item we have to use negative indexing.\n"
   ]
  },
  {
   "cell_type": "markdown",
   "id": "6ec2999d",
   "metadata": {},
   "source": [
    "3."
   ]
  },
  {
   "cell_type": "markdown",
   "id": "11f0d013",
   "metadata": {},
   "source": [
    "It’s not possible because the tuples don’t change.They cannot be modified, they remain the same until the end once created."
   ]
  },
  {
   "cell_type": "markdown",
   "id": "3005b732",
   "metadata": {},
   "source": [
    "4."
   ]
  },
  {
   "cell_type": "code",
   "execution_count": 4,
   "id": "6ae9fdba",
   "metadata": {},
   "outputs": [
    {
     "name": "stdout",
     "output_type": "stream",
     "text": [
      "3\n"
     ]
    }
   ],
   "source": [
    "print(len(tuple1))\n"
   ]
  },
  {
   "cell_type": "markdown",
   "id": "6ffc4a7c",
   "metadata": {},
   "source": [
    "Explanation: We use the len function to know the number of elements\n"
   ]
  },
  {
   "cell_type": "markdown",
   "id": "bdc53c52",
   "metadata": {},
   "source": [
    "5."
   ]
  },
  {
   "cell_type": "code",
   "execution_count": 5,
   "id": "9f243dff",
   "metadata": {},
   "outputs": [],
   "source": [
    "tuple2 = ([7, 8], [9, 1], [10, 7])\n"
   ]
  },
  {
   "cell_type": "markdown",
   "id": "e748e7cc",
   "metadata": {},
   "source": [
    "Step1: We have to use the sum function to each sublist using map\n"
   ]
  },
  {
   "cell_type": "code",
   "execution_count": 8,
   "id": "03e49290",
   "metadata": {},
   "outputs": [],
   "source": [
    "map_sum = map(sum, tuple2)"
   ]
  },
  {
   "cell_type": "markdown",
   "id": "2dd05435",
   "metadata": {},
   "source": [
    "Step2: We have to convert map_sum to a list\n"
   ]
  },
  {
   "cell_type": "code",
   "execution_count": 9,
   "id": "4456e205",
   "metadata": {},
   "outputs": [],
   "source": [
    "list_sum= list(map_sum)\n"
   ]
  },
  {
   "cell_type": "markdown",
   "id": "5bb8e31d",
   "metadata": {},
   "source": [
    "Step 3: We have to sum all the individual sums\n"
   ]
  },
  {
   "cell_type": "code",
   "execution_count": 10,
   "id": "1981109f",
   "metadata": {},
   "outputs": [],
   "source": [
    "all_sum= sum(list_sum)\n"
   ]
  },
  {
   "cell_type": "markdown",
   "id": "2b4d4427",
   "metadata": {},
   "source": [
    "Step 4: We have to print to get the result\n"
   ]
  },
  {
   "cell_type": "code",
   "execution_count": 11,
   "id": "2f14edff",
   "metadata": {},
   "outputs": [
    {
     "name": "stdout",
     "output_type": "stream",
     "text": [
      "42\n"
     ]
    }
   ],
   "source": [
    "print(all_sum)\n"
   ]
  },
  {
   "cell_type": "markdown",
   "id": "1ee0ee11",
   "metadata": {},
   "source": [
    "6."
   ]
  },
  {
   "cell_type": "code",
   "execution_count": 1,
   "id": "45b1fcac",
   "metadata": {},
   "outputs": [
    {
     "name": "stdout",
     "output_type": "stream",
     "text": [
      "([3.5, 4.0], [4.5, 0.5], [5.0, 3.5])\n"
     ]
    }
   ],
   "source": [
    "tuple2 = ([7, 8], [9, 1], [10, 7])\n",
    "tuple3 = tuple([list(map(lambda x: x/2, sublist)) for sublist in tuple2])\n",
    "print(tuple3)"
   ]
  },
  {
   "cell_type": "code",
   "execution_count": null,
   "id": "07f9a9aa",
   "metadata": {},
   "outputs": [],
   "source": [
    "Explanation: lambda x: x/2 defines a function that halves the values of tuple2. The [list(map(...)) for sublist in tuple2] loop applies this operation to each list in tuple2."
   ]
  },
  {
   "cell_type": "markdown",
   "id": "251408bc",
   "metadata": {},
   "source": [
    "# 1.2 Lists"
   ]
  },
  {
   "cell_type": "markdown",
   "id": "aad6c3a3",
   "metadata": {},
   "source": [
    "1."
   ]
  },
  {
   "cell_type": "code",
   "execution_count": 2,
   "id": "da52698a",
   "metadata": {},
   "outputs": [
    {
     "name": "stdout",
     "output_type": "stream",
     "text": [
      "The indices 0, 1, 4, 7 have np.nan values.\n"
     ]
    }
   ],
   "source": [
    "import numpy as np\n",
    "\n",
    "f_list = [np.nan , np.nan, \"Austria\", \"Germany\", np.nan, \"Pakistan\", \"np.nan\", np.nan ]\n",
    "indices = [i for i, x in enumerate(f_list) if x is np.nan]\n",
    "\n",
    "print(f\"The indices {', '.join(map(str, indices))} have np.nan values.\")"
   ]
  },
  {
   "cell_type": "code",
   "execution_count": null,
   "id": "83053cf3",
   "metadata": {},
   "outputs": [],
   "source": [
    "Explanation: enumerate function allows us to find the position of the values in a list."
   ]
  },
  {
   "cell_type": "markdown",
   "id": "f9aa2898",
   "metadata": {},
   "source": [
    "2."
   ]
  },
  {
   "cell_type": "code",
   "execution_count": 3,
   "id": "a7846f4f",
   "metadata": {},
   "outputs": [
    {
     "name": "stdout",
     "output_type": "stream",
     "text": [
      "[2, 3, 4, 5, 2, 3, 4, 5, 2, 3, 4, 5, 2, 3, 4, 5]\n"
     ]
    }
   ],
   "source": [
    "p2_list = [ 2 , 3, 4, 5 ]\n",
    "replicated_list = p2_list * 4\n",
    "print(replicated_list)"
   ]
  },
  {
   "cell_type": "code",
   "execution_count": null,
   "id": "5803f6a3",
   "metadata": {},
   "outputs": [],
   "source": [
    "Explanation: multiplication function allows us to quadruple the list."
   ]
  },
  {
   "cell_type": "markdown",
   "id": "8321ff74",
   "metadata": {},
   "source": [
    "3."
   ]
  },
  {
   "cell_type": "code",
   "execution_count": 4,
   "id": "83f3d100",
   "metadata": {},
   "outputs": [
    {
     "name": "stdout",
     "output_type": "stream",
     "text": [
      "8\n"
     ]
    }
   ],
   "source": [
    "import numpy as np\n",
    "\n",
    "f_list = [np.nan, np.nan, \"Austria\", \"Germany\", np.nan, \"Pakistan\", \"np.nan\", np.nan]\n",
    "length_of_list = len(f_list)\n",
    "print(length_of_list)"
   ]
  },
  {
   "cell_type": "code",
   "execution_count": null,
   "id": "62552bc0",
   "metadata": {},
   "outputs": [],
   "source": [
    "Explanation: length function allows us to know the number of values in the list."
   ]
  },
  {
   "cell_type": "markdown",
   "id": "8346cb99",
   "metadata": {},
   "source": [
    "4."
   ]
  },
  {
   "cell_type": "code",
   "execution_count": 6,
   "id": "21fa7e36",
   "metadata": {},
   "outputs": [
    {
     "name": "stdout",
     "output_type": "stream",
     "text": [
      "My teacher assistant is so boring.\n"
     ]
    }
   ],
   "source": [
    "text1 = ['My', 'teacher', 'assistant', 'is', 'so', 'boring.']\n",
    "sentence = ' '.join(text1)\n",
    "print(sentence)"
   ]
  },
  {
   "cell_type": "markdown",
   "id": "887c2f26",
   "metadata": {},
   "source": [
    "Explanation: After we declared 'text1' we used the join function to join the words on the text1 list. Then we printed it.\n"
   ]
  },
  {
   "cell_type": "markdown",
   "id": "e5e4235d",
   "metadata": {},
   "source": [
    "5."
   ]
  },
  {
   "cell_type": "code",
   "execution_count": 7,
   "id": "25411987",
   "metadata": {},
   "outputs": [
    {
     "data": {
      "text/plain": [
       "5"
      ]
     },
     "execution_count": 7,
     "metadata": {},
     "output_type": "execute_result"
    }
   ],
   "source": [
    "text1.index('boring.')"
   ]
  },
  {
   "cell_type": "code",
   "execution_count": 8,
   "id": "061057b9",
   "metadata": {},
   "outputs": [
    {
     "name": "stdout",
     "output_type": "stream",
     "text": [
      "My teacher assistant is so boring, but is very funny.\n"
     ]
    }
   ],
   "source": [
    "text1[5] = 'boring,'\n",
    "extra_words = ['but', 'is', 'very', 'funny.']\n",
    "text1.extend(extra_words)\n",
    "sentence2 = ' '.join(text1)\n",
    "print (sentence2)"
   ]
  },
  {
   "cell_type": "markdown",
   "id": "4090cbb5",
   "metadata": {},
   "source": [
    "Explanation: First we need to replace 'boring.' with 'boring,' because in the new sentence 'sentence2' boring is followed by a comma, not by a dot. For that we need to know in which position is that element of the list 'text1', then replace it. After that, we made a list with the new words that are going to be included. Then we extended the first list 'text1' with the elements of 'extra_words' and joined all the words of improved text1 in a new sentence 'sentence2'. Finally we printed it. "
   ]
  },
  {
   "cell_type": "markdown",
   "id": "16d772db",
   "metadata": {},
   "source": [
    "6."
   ]
  },
  {
   "cell_type": "code",
   "execution_count": 10,
   "id": "3e2e74e3",
   "metadata": {},
   "outputs": [
    {
     "name": "stdout",
     "output_type": "stream",
     "text": [
      "The max value of values1 is 86 and is located in the 0 index.\n",
      "The min value of values1 is 0 and is located in the 7 index.\n"
     ]
    }
   ],
   "source": [
    "values1 = [ 86, 86, 85, 85, 85, 83, 23, 0, 84, 1 ] \n",
    "\n",
    "max_value = max(values1)\n",
    "max_index = values1.index(max_value)\n",
    "\n",
    "min_value = min(values1)\n",
    "min_index = values1.index(min_value)\n",
    "\n",
    "print(f\"The max value of values1 is {max_value} and is located in the {max_index} index.\")\n",
    "print(f\"The min value of values1 is {min_value} and is located in the {min_index} index.\")"
   ]
  },
  {
   "cell_type": "markdown",
   "id": "2333a2ef",
   "metadata": {},
   "source": [
    "Explanation: After we declared 'values1', we declared that 'max_value' is going to be the max value of 'values1' to complete the first part of the sentence and then for the second we declared that 'max_index' is going to be the position of the 'max_value'. Same for min. So then with f-string we printed the sentences with the space for the max_value and max_index. Same for min. "
   ]
  },
  {
   "cell_type": "markdown",
   "id": "030a6a97",
   "metadata": {},
   "source": [
    "7."
   ]
  },
  {
   "cell_type": "code",
   "execution_count": 3,
   "id": "a1b94629",
   "metadata": {},
   "outputs": [
    {
     "name": "stdout",
     "output_type": "stream",
     "text": [
      "First Names:\n",
      "['CHRISTIAN SANTOS', 'CRISTIAN NASSER', 'ANGELICA KARINA', 'JOSE ROBERTO', 'ABEL FERNANDO', 'MEIR ALVARO', 'JOSELIN ALEXANDRA', 'LEONEL ARTURO', 'JOSE FELIPE', 'AFRANIA', 'BIANCA MARIETTE', 'ADRIAN ANDRE', 'DORKAS YOMIRA JHERMY', 'LADY ALY', 'HECTOR ANDRE', 'GUSTAVO', 'PERSEO MARCELO', 'MIGUEL ALONZO', 'NICOLAS', 'ROCIO GABRIELA', 'JANE CAMILA', 'MARIA ELISA', 'ALEJANDRO', 'KARLINE ROSMELI', 'STEPHY ROSARIO', 'VALERIA CECILIA', 'SEBASTIAN RENATO', 'JUAN CARLOS', 'MARIANA', 'ANDREA BRIZETH', 'ERICK JOSUE', 'JOSUE DANIEL', 'FABIO MANUEL', 'FERNANDA NICOLLE', 'ANGELA ADELINA', 'CESAR DANTE', 'GABRIELA ISABEL', 'ANGEL MAURICIO', 'JUAN DIEGO', 'ARONE', 'PERCY ALBERTH', 'KEVIN ARTURO', 'CESAR ERNESTO', 'CÉSAR AGUSTO', 'DIANA EDITH', 'RODRIGO FRANCO', 'GRETTEL ALEXANDRA', 'ROSA ANGELA', 'DANTE OMAR', 'YAJAIRA ALEXANDRA', 'JORGE ALBERTO', 'ALEXIS']\n",
      "\n",
      "Last Names:\n",
      "['CORNEJO SANCHEZ', 'ORELLANA QUISPE', 'MORALES CHOQUEHUANCA', 'GUIMARAY RIBEYRO', 'CAMACHO GAVIDIA', 'TINTAYA ORIHUELA', 'CHAVEZ MARTINEZ', 'FIGUEROA MURO', 'GOMEZ CRIBILLERO', 'PALOMINO SEGUÍN', 'LUZON CUEVA', 'SUAÑA ZEGARRA', 'SOTO POMACHAGUA', 'FIORENTINO MARTINEZ', 'LAMA MAVILA', 'MEZA HINOJO', 'LOZADA MURILLO', 'ZAMBRANO JIMENEZ', 'JACOBS LUQUE', 'VIDAL VIDAL', 'TORRES ANICAMA', 'LOPEZ ESTRADA', 'BOYCO ORAMS', 'DIAZ BERROSPI', 'RIEGA ESCALANTE', 'LEVANO TORRES', 'ESQUIVES BRAVO', 'PEREZ GONZALES', 'OTERO MAGUIÑA', 'CLAVO CAMPOS', 'AGUILAR GARCIA', 'CALDAS VELASQUEZ', 'SALAS NUÑEZ BORJA', 'PIZARRO VILLANES', 'QUILLATUPA MORALES', 'HUANCAYA IDONE', 'CALVO PORTOCARRERO', 'IBAÑEZ ABANTO', 'MELÉNDEZ APONTE', 'CRISTIAN SERRANO', 'HINOJOSA CAHUANA', 'ANGLAS GARCÍA', 'ALDAVE ACOSTA', 'NÚÑEZ HUAMÁN', 'OBREGON HUAMAN', 'SOTO PACHERRES', 'INGARUCA RIVERA', 'ROJAS HUAMAN', 'NEYRA SALAS', 'HUERTA ESPINOZA', 'HUANCA MARTINEZ', 'FLORES CADILLO']\n"
     ]
    }
   ],
   "source": [
    "last_and_name = [ 'CORNEJO SANCHEZ, CHRISTIAN SANTOS', 'ORELLANA QUISPE, CRISTIAN NASSER', 'MORALES CHOQUEHUANCA, ANGELICA KARINA', 'GUIMARAY RIBEYRO, JOSE ROBERTO', 'CAMACHO GAVIDIA, ABEL FERNANDO', 'TINTAYA ORIHUELA, MEIR ALVARO', 'CHAVEZ MARTINEZ, JOSELIN ALEXANDRA', 'FIGUEROA MURO, LEONEL ARTURO', 'GOMEZ CRIBILLERO, JOSE FELIPE', 'PALOMINO SEGUÍN, AFRANIA', 'LUZON CUEVA, BIANCA MARIETTE', 'SUAÑA ZEGARRA, ADRIAN ANDRE', 'SOTO POMACHAGUA, DORKAS YOMIRA JHERMY', 'FIORENTINO MARTINEZ, LADY ALY', 'LAMA MAVILA, HECTOR ANDRE', 'MEZA HINOJO, GUSTAVO', 'LOZADA MURILLO, PERSEO MARCELO', 'ZAMBRANO JIMENEZ, MIGUEL ALONZO', 'JACOBS LUQUE, NICOLAS', 'VIDAL VIDAL, ROCIO GABRIELA', 'TORRES ANICAMA, JANE CAMILA', 'LOPEZ ESTRADA, MARIA ELISA', 'BOYCO ORAMS, ALEJANDRO', 'DIAZ BERROSPI, KARLINE ROSMELI', 'RIEGA ESCALANTE, STEPHY ROSARIO', 'LEVANO TORRES, VALERIA CECILIA', 'ESQUIVES BRAVO, SEBASTIAN RENATO', 'PEREZ GONZALES, JUAN CARLOS', 'OTERO MAGUIÑA, MARIANA', 'CLAVO CAMPOS, ANDREA BRIZETH', 'AGUILAR GARCIA, ERICK JOSUE', 'CALDAS VELASQUEZ, JOSUE DANIEL', 'SALAS NUÑEZ BORJA, FABIO MANUEL', 'PIZARRO VILLANES, FERNANDA NICOLLE', 'QUILLATUPA MORALES, ANGELA ADELINA', 'HUANCAYA IDONE, CESAR DANTE', 'CALVO PORTOCARRERO, GABRIELA ISABEL', 'IBAÑEZ ABANTO, ANGEL MAURICIO', 'MELÉNDEZ APONTE, JUAN DIEGO', 'CRISTIAN SERRANO, ARONE', 'HINOJOSA CAHUANA, PERCY ALBERTH', 'ANGLAS GARCÍA, KEVIN ARTURO', 'ALDAVE ACOSTA, CESAR ERNESTO', 'NÚÑEZ HUAMÁN, CÉSAR AGUSTO', 'OBREGON HUAMAN, DIANA EDITH', 'SOTO PACHERRES, RODRIGO FRANCO', 'INGARUCA RIVERA, GRETTEL ALEXANDRA', 'ROJAS HUAMAN, ROSA ANGELA', 'NEYRA SALAS, DANTE OMAR', 'HUERTA ESPINOZA, YAJAIRA ALEXANDRA', 'HUANCA MARTINEZ, JORGE ALBERTO', 'FLORES CADILLO, ALEXIS' ]\n",
    "\n",
    "first_names = list(map(lambda x: x.split(', ')[1], last_and_name)) \n",
    "last_names = list(map(lambda x: x.split(', ')[0], last_and_name))\n",
    "\n",
    "print(\"First Names:\")\n",
    "print(first_names)\n",
    "print(\"\\nLast Names:\")\n",
    "print(last_names)"
   ]
  },
  {
   "cell_type": "markdown",
   "id": "84e92007",
   "metadata": {},
   "source": [
    "Explanation: The first list, first_names, was created by using map() and a lambda function that splits each string using ', ' as a separator and extracts the second element after the split, which corresponds to the names. For the second list, last_names, we used a similar lambda function, but this one extracts the first element after the split, representing last names. Using list() converts the resulting map objects to lists."
   ]
  },
  {
   "cell_type": "markdown",
   "id": "dd4bf1c0",
   "metadata": {},
   "source": [
    "8."
   ]
  },
  {
   "cell_type": "code",
   "execution_count": 4,
   "id": "b9e9cb16",
   "metadata": {},
   "outputs": [
    {
     "name": "stdout",
     "output_type": "stream",
     "text": [
      "Last Names of Students without Email: ['HUANCAYA IDONE', 'CALVO PORTOCARRERO', 'IBAÑEZ ABANTO', 'MELÉNDEZ APONTE', 'CRISTIAN SERRANO', 'ANGLAS GARCÍA', 'ALDAVE ACOSTA', 'NÚÑEZ HUAMÁN', 'OBREGON HUAMAN', 'SOTO PACHERRES', 'INGARUCA RIVERA', 'ROJAS HUAMAN', 'NEYRA SALAS', 'HUERTA ESPINOZA', 'HUANCA MARTINEZ']\n"
     ]
    }
   ],
   "source": [
    "emails = [\"cscornejo@pucp.edu.pe\", \"orellana.cn@pucp.edu.pe\", \"karina.morales@pucp.edu.pe\", \"a20083223@pucp.pe\", \"abel.camacho@pucp.pe\", \"mtintaya@pucp.edu.pe\", \"joselin.chavez@pucp.edu.pe\", \"a20105737@pucp.pe\", \"jfgomezc@pucp.pe\", \"afrania.palomino@pucp.pe\", \"luzon.bianca@pucp.pe\", \"adrian.suanaz@pucp.pe\", \"soto.y@pucp.edu.pe\", \"a20132766@pucp.pe\", \"andre.lama@pucp.edu.pe\", \"gustavo.meza@pucp.edu.pe\", \"pmlozada@pucp.edu.pe\", \"m.zambranoj@pucp.edu.pe\", \"nicolas.jacobs@pucp.edu.pe\", \"gvidal@pucp.edu.pe\", \"jane.torres@pucp.edu.pe\", \"m.lopez@pucp.edu.pe\", \"alejandro.boyco@pucp.edu.pe\", \"a20167070@pucp.edu.pe\", \"riega.stephy@pucp.edu.pe\", \"vlevanot@pucp.edu.pe\", \"sesquives@pucp.edu.pe\", \"perez.juanc@pucp.edu.pe\", \"mariana.otero@pucp.edu.pe\", \"aclavo@pucp.edu.pe\", \"a20182474@pucp.edu.pe\", \"josue.caldas@pucp.edu.pe\", \"fabio.salas@pucp.edu.pe\", \"fernanda.pizarro@pucp.edu.pe\", \"aquillatupa@pucp.pe\", \"\", \"\", \"\", \"\", \"\", \"f0873079@pucp.edu.pe\", \"\", \"\", \"\", \"\", \"\", \"\", \"\", \"\", \"\", \"\", \"flores.alexis@pucp.edu.pe\", ]\n",
    "last_names = list(map(lambda full_name: full_name.split(',')[0], last_and_name))\n",
    "data = zip(last_names, emails)\n",
    "last_names_no_email = [last_name for last_name, email in data if email == '']\n",
    "print(\"Last Names of Students without Email:\", last_names_no_email)"
   ]
  },
  {
   "cell_type": "markdown",
   "id": "cc0dffe7",
   "metadata": {},
   "source": [
    "Explanation: With data = zip(last_names, emails) the zip() function took two lists (last_names and emails) and created a sequence of tuples, combining the elements corresponding to both lists. In other words, it creates a sequence that relates last names to email addresses.\n",
    "\n",
    "With last_names_without_email = [last_name for last_name, email in data if email == '']: A comprehension list was used to iterate over the tuples generated by zip(). For each tuple (last_name, email) in data, it checks whether the email is empty (''). If the email is empty, the last_name (last name) is added to the last_names_without_email list."
   ]
  },
  {
   "cell_type": "markdown",
   "id": "a74c1c5d",
   "metadata": {},
   "source": [
    "# 1.3 Strings"
   ]
  },
  {
   "cell_type": "code",
   "execution_count": 2,
   "id": "c75a100f",
   "metadata": {},
   "outputs": [],
   "source": [
    "# Input data provided\n",
    "str1 = 'I am                            too                                                        old'\n",
    "emails = [\"cscornejo@pucp.edu.pe\", \"orellana.cn@pucp.edu.pe\", \"karina.morales@pucp.edu.pe\", \"a20083223@pucp.pe\", \"abel.camacho@pucp.pe\", \"mtintaya@pucp.edu.pe\", \"joselin.chavez@pucp.edu.pe\", \"a20105737@pucp.pe\", \"jfgomezc@pucp.pe\", \"afrania.palomino@pucp.pe\", \"luzon.bianca@pucp.pe\", \"adrian.suanaz@pucp.pe\", \"soto.y@pucp.edu.pe\", \"a20132766@pucp.pe\", \"andre.lama@pucp.edu.pe\", \"gustavo.meza@pucp.edu.pe\", \"pmlozada@pucp.edu.pe\", \"m.zambranoj@pucp.edu.pe\", \"nicolas.jacobs@pucp.edu.pe\", \"gvidal@pucp.edu.pe\", \"jane.torres@pucp.edu.pe\", \"m.lopez@pucp.edu.pe\", \"alejandro.boyco@pucp.edu.pe\", \"a20167070@pucp.edu.pe\", \"riega.stephy@pucp.edu.pe\", \"vlevanot@pucp.edu.pe\", \"sesquives@pucp.edu.pe\", \"perez.juanc@pucp.edu.pe\", \"mariana.otero@pucp.edu.pe\", \"aclavo@pucp.edu.pe\", \"a20182474@pucp.edu.pe\", \"josue.caldas@pucp.edu.pe\", \"fabio.salas@pucp.edu.pe\", \"fernanda.pizarro@pucp.edu.pe\", \"aquillatupa@pucp.pe\"]"
   ]
  },
  {
   "cell_type": "markdown",
   "id": "3f879bbd",
   "metadata": {},
   "source": [
    "## 1."
   ]
  },
  {
   "cell_type": "code",
   "execution_count": 3,
   "id": "1ea19fc5",
   "metadata": {},
   "outputs": [
    {
     "name": "stdout",
     "output_type": "stream",
     "text": [
      "I am too old\n"
     ]
    }
   ],
   "source": [
    "# Eliminate redundant whitespace in the string, str1\n",
    "withoutblanks_str1 = ' '.join(str1.split())\n",
    "print(withoutblanks_str1)"
   ]
  },
  {
   "cell_type": "markdown",
   "id": "faf9469c",
   "metadata": {},
   "source": [
    "## 2."
   ]
  },
  {
   "cell_type": "code",
   "execution_count": null,
   "id": "31fcee1b",
   "metadata": {},
   "outputs": [],
   "source": [
    "# Calculate the cardinality of alphabetical characters within the specified string, considering its length and individual occurrences of each letter.\n",
    "num_letters = sum(char.isalpha() for char in str1)\n",
    "print(num_letters)"
   ]
  },
  {
   "cell_type": "markdown",
   "id": "d4397761",
   "metadata": {},
   "source": [
    "## 3."
   ]
  },
  {
   "cell_type": "code",
   "execution_count": 5,
   "id": "a0234d9f",
   "metadata": {},
   "outputs": [
    {
     "name": "stdout",
     "output_type": "stream",
     "text": [
      "85\n"
     ]
    }
   ],
   "source": [
    "# Retrieve the count of whitespace characters within the string.\n",
    "num_spaces = sum(map(str.isspace, str1))\n",
    "print(num_spaces)"
   ]
  },
  {
   "cell_type": "code",
   "execution_count": 6,
   "id": "e94f2449",
   "metadata": {},
   "outputs": [
    {
     "name": "stdout",
     "output_type": "stream",
     "text": [
      "3\n"
     ]
    }
   ],
   "source": [
    "# Derive the count of spaces devoid of any additional whitespace characters within the given string.\n",
    "num_spaces = sum(map(str.isspace, withoutblanks_str1))\n",
    "print(num_spaces)"
   ]
  },
  {
   "cell_type": "markdown",
   "id": "56bf155c",
   "metadata": {},
   "source": [
    "## 4."
   ]
  },
  {
   "cell_type": "code",
   "execution_count": 7,
   "id": "737cf4a8",
   "metadata": {},
   "outputs": [
    {
     "name": "stdout",
     "output_type": "stream",
     "text": [
      "[9, 11, 14, 9, 12, 8, 14, 9, 8, 16, 12, 13, 6, 9, 10, 12, 8, 11, 14, 6, 11, 7, 15, 9, 12, 8, 9, 11, 13, 6, 9, 12, 11, 16, 11]\n"
     ]
    }
   ],
   "source": [
    "# Provided a list of emails, utilize map and find functions to determine the position of '@' in each email, showcasing the respective positions of '@' in the emails.\n",
    "positions_arroba = list(map(lambda email: email.find('@'), emails))\n",
    "print(positions_arroba)"
   ]
  },
  {
   "cell_type": "markdown",
   "id": "ff27742a",
   "metadata": {},
   "source": [
    "## 5."
   ]
  },
  {
   "cell_type": "code",
   "execution_count": 8,
   "id": "dcbc4d1a",
   "metadata": {},
   "outputs": [
    {
     "name": "stdout",
     "output_type": "stream",
     "text": [
      "[True, True, True, False, False, True, True, False, False, False, False, False, True, False, True, True, True, True, True, True, True, True, True, True, True, True, True, True, True, True, True, True, True, True, False]\n"
     ]
    }
   ],
   "source": [
    "# Given a list of emails, search for the presence of '.edu.' in each string, generating a list of Booleans representing its existence.\n",
    "edu_exists = list(map(lambda x: '.edu.' in x, emails))\n",
    "print(edu_exists)"
   ]
  },
  {
   "cell_type": "markdown",
   "id": "3c0d3810",
   "metadata": {},
   "source": [
    "## 6."
   ]
  },
  {
   "cell_type": "code",
   "execution_count": 9,
   "id": "fa44606d",
   "metadata": {},
   "outputs": [
    {
     "name": "stdout",
     "output_type": "stream",
     "text": [
      "14\n"
     ]
    }
   ],
   "source": [
    "# Get all the email strings before the first dot ('.') in each email address\n",
    "emails_before_dot = map(lambda email: email[:email.find('.')], emails)\n",
    "\n",
    "# Count how many of those substrings contain the '@' symbol\n",
    "count_with_at = sum(map(lambda email: '@' in email, emails_before_dot))\n",
    "\n",
    "# Display the total count of email substrings that have '@' after the first dot ('.')\n",
    "print(count_with_at)"
   ]
  }
 ],
 "metadata": {
  "kernelspec": {
   "display_name": "Python 3 (ipykernel)",
   "language": "python",
   "name": "python3"
  },
  "language_info": {
   "codemirror_mode": {
    "name": "ipython",
    "version": 3
   },
   "file_extension": ".py",
   "mimetype": "text/x-python",
   "name": "python",
   "nbconvert_exporter": "python",
   "pygments_lexer": "ipython3",
   "version": "3.11.5"
  }
 },
 "nbformat": 4,
 "nbformat_minor": 5
}
