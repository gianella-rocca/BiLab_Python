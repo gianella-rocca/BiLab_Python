{
  "nbformat": 4,
  "nbformat_minor": 0,
  "metadata": {
    "colab": {
      "provenance": [],
      "include_colab_link": true
    },
    "kernelspec": {
      "name": "python3",
      "display_name": "Python 3"
    },
    "language_info": {
      "name": "python"
    }
  },
  "cells": [
    {
      "cell_type": "markdown",
      "metadata": {
        "id": "view-in-github",
        "colab_type": "text"
      },
      "source": [
        "<a href=\"https://colab.research.google.com/github/gianella-rocca/BiLab_Python/blob/main/Clase_2.ipynb\" target=\"_parent\"><img src=\"https://colab.research.google.com/assets/colab-badge.svg\" alt=\"Open In Colab\"/></a>"
      ]
    },
    {
      "cell_type": "markdown",
      "source": [
        "1. Exercises for Lists"
      ],
      "metadata": {
        "id": "tdVHXjP5qUfB"
      }
    },
    {
      "cell_type": "code",
      "execution_count": null,
      "metadata": {
        "id": "YoZFpLOpigrX"
      },
      "outputs": [],
      "source": [
        "my_fruits=['apple', 'banana', 'orange', 'grape']"
      ]
    },
    {
      "cell_type": "code",
      "source": [
        "print(my_fruits[1])"
      ],
      "metadata": {
        "colab": {
          "base_uri": "https://localhost:8080/"
        },
        "id": "v1z6g8_smgG8",
        "outputId": "fb98be45-fbb9-46ca-9b79-a030afc93a33"
      },
      "execution_count": null,
      "outputs": [
        {
          "output_type": "stream",
          "name": "stdout",
          "text": [
            "banana\n"
          ]
        }
      ]
    },
    {
      "cell_type": "code",
      "source": [
        "my_fruits.append('mango')\n",
        "print(my_fruits)"
      ],
      "metadata": {
        "colab": {
          "base_uri": "https://localhost:8080/"
        },
        "id": "znqOSnRbnLcK",
        "outputId": "1d637509-50f2-48e4-b170-c846f980cc3a"
      },
      "execution_count": null,
      "outputs": [
        {
          "output_type": "stream",
          "name": "stdout",
          "text": [
            "['apple', 'banana', 'orange', 'grape', 'mango']\n"
          ]
        }
      ]
    },
    {
      "cell_type": "code",
      "source": [
        "my_fruits[2]='strawberry'\n",
        "print(my_fruits)"
      ],
      "metadata": {
        "colab": {
          "base_uri": "https://localhost:8080/"
        },
        "id": "oq1jeajBnXW8",
        "outputId": "acac0299-9371-4799-f759-16b8bdba8ec4"
      },
      "execution_count": null,
      "outputs": [
        {
          "output_type": "stream",
          "name": "stdout",
          "text": [
            "['apple', 'banana', 'strawberry', 'grape', 'mango']\n"
          ]
        }
      ]
    },
    {
      "cell_type": "code",
      "source": [
        "my_fruits.pop(0)\n",
        "print(my_fruits)"
      ],
      "metadata": {
        "colab": {
          "base_uri": "https://localhost:8080/"
        },
        "id": "AkWkzY8pnkAW",
        "outputId": "6477f3e4-760d-4e87-d31a-18aad2d676c9"
      },
      "execution_count": null,
      "outputs": [
        {
          "output_type": "stream",
          "name": "stdout",
          "text": [
            "['banana', 'strawberry', 'grape', 'mango']\n"
          ]
        }
      ]
    },
    {
      "cell_type": "code",
      "source": [
        "print(len(my_fruits))"
      ],
      "metadata": {
        "colab": {
          "base_uri": "https://localhost:8080/"
        },
        "id": "aDyebqW0oKvH",
        "outputId": "eb1937e7-7349-43a3-8d35-72a645ea12df"
      },
      "execution_count": null,
      "outputs": [
        {
          "output_type": "stream",
          "name": "stdout",
          "text": [
            "4\n"
          ]
        }
      ]
    },
    {
      "cell_type": "code",
      "source": [
        "first_two_fruits=my_fruits[:2]\n",
        "print(first_two_fruits)"
      ],
      "metadata": {
        "colab": {
          "base_uri": "https://localhost:8080/"
        },
        "id": "nacQQC3goPiM",
        "outputId": "9764bc36-485e-410d-8041-28e54b19439a"
      },
      "execution_count": null,
      "outputs": [
        {
          "output_type": "stream",
          "name": "stdout",
          "text": [
            "['banana', 'strawberry']\n"
          ]
        }
      ]
    },
    {
      "cell_type": "code",
      "source": [
        "my_fruits.sort()\n",
        "print(my_fruits)"
      ],
      "metadata": {
        "colab": {
          "base_uri": "https://localhost:8080/"
        },
        "id": "bHu0gZIOoeL-",
        "outputId": "6bcb4e81-0bd4-44df-959a-1bd41e1dcad8"
      },
      "execution_count": null,
      "outputs": [
        {
          "output_type": "stream",
          "name": "stdout",
          "text": [
            "['banana', 'grape', 'mango', 'strawberry']\n"
          ]
        }
      ]
    },
    {
      "cell_type": "code",
      "source": [
        "my_fruits.sort(reverse= True)\n",
        "print(my_fruits)"
      ],
      "metadata": {
        "colab": {
          "base_uri": "https://localhost:8080/"
        },
        "id": "vG1zOkotox1W",
        "outputId": "46f8f11b-b5a6-4667-ac1d-328fc4324b6f"
      },
      "execution_count": null,
      "outputs": [
        {
          "output_type": "stream",
          "name": "stdout",
          "text": [
            "['strawberry', 'mango', 'grape', 'banana']\n"
          ]
        }
      ]
    },
    {
      "cell_type": "code",
      "source": [
        "'banana' in my_fruits"
      ],
      "metadata": {
        "colab": {
          "base_uri": "https://localhost:8080/"
        },
        "id": "BbsUiVb9plxK",
        "outputId": "ada7acca-41b4-41a1-d93d-366b4ab35549"
      },
      "execution_count": null,
      "outputs": [
        {
          "output_type": "execute_result",
          "data": {
            "text/plain": [
              "True"
            ]
          },
          "metadata": {},
          "execution_count": 34
        }
      ]
    },
    {
      "cell_type": "code",
      "source": [
        "groceries= [['apples',3],['milk',2],['bread',1]]"
      ],
      "metadata": {
        "id": "hj1VDMA1p4Es"
      },
      "execution_count": null,
      "outputs": []
    },
    {
      "cell_type": "code",
      "source": [
        "for fruit in my_fruits:\n",
        "\tprint(fruit)"
      ],
      "metadata": {
        "colab": {
          "base_uri": "https://localhost:8080/"
        },
        "id": "nnf2ceMkqExE",
        "outputId": "0660c83c-72cf-4437-993d-bcacaa4e6d31"
      },
      "execution_count": null,
      "outputs": [
        {
          "output_type": "stream",
          "name": "stdout",
          "text": [
            "strawberry\n",
            "mango\n",
            "grape\n",
            "banana\n"
          ]
        }
      ]
    },
    {
      "cell_type": "markdown",
      "source": [
        "2. Exercises for Dictionaries"
      ],
      "metadata": {
        "id": "5uGzgF8-qcgt"
      }
    },
    {
      "cell_type": "code",
      "source": [
        "student_info = { 'name' : 'Alice', 'age' : 25, 'city' : 'New York'}"
      ],
      "metadata": {
        "id": "7ABdUog9qfsA"
      },
      "execution_count": null,
      "outputs": []
    },
    {
      "cell_type": "code",
      "source": [
        "print(student_info['age'])"
      ],
      "metadata": {
        "colab": {
          "base_uri": "https://localhost:8080/"
        },
        "id": "c2j6uAXlrK0c",
        "outputId": "291e2ecb-0c67-4bf6-850d-1c7d01a86475"
      },
      "execution_count": null,
      "outputs": [
        {
          "output_type": "stream",
          "name": "stdout",
          "text": [
            "25\n"
          ]
        }
      ]
    },
    {
      "cell_type": "code",
      "source": [
        "student_info['major']= 'Computer Science'\n",
        "print(student_info)"
      ],
      "metadata": {
        "colab": {
          "base_uri": "https://localhost:8080/"
        },
        "id": "8ZDweq2VsQcz",
        "outputId": "bbcd2e2f-19fc-4ee4-f012-27c9d9c04188"
      },
      "execution_count": null,
      "outputs": [
        {
          "output_type": "stream",
          "name": "stdout",
          "text": [
            "{'name': 'Alice', 'age': 25, 'city': 'New York', 'major': 'Computer Science'}\n"
          ]
        }
      ]
    },
    {
      "cell_type": "code",
      "source": [
        "student_info['city'] = 'London'\n",
        "print(student_info)"
      ],
      "metadata": {
        "colab": {
          "base_uri": "https://localhost:8080/"
        },
        "id": "FICeC87ttH7d",
        "outputId": "49811765-cf96-4742-de44-a435c2e95661"
      },
      "execution_count": null,
      "outputs": [
        {
          "output_type": "stream",
          "name": "stdout",
          "text": [
            "{'name': 'Alice', 'age': 25, 'city': 'London', 'major': 'Computer Science'}\n"
          ]
        }
      ]
    },
    {
      "cell_type": "code",
      "source": [
        "student_info.pop('age')\n",
        "print(student_info)"
      ],
      "metadata": {
        "colab": {
          "base_uri": "https://localhost:8080/"
        },
        "id": "7zEu1GmKuNbt",
        "outputId": "e096e940-745c-4a1b-a1c7-92417b961b59"
      },
      "execution_count": null,
      "outputs": [
        {
          "output_type": "stream",
          "name": "stdout",
          "text": [
            "{'name': 'Alice', 'city': 'London', 'major': 'Computer Science'}\n"
          ]
        }
      ]
    },
    {
      "cell_type": "code",
      "source": [
        "for key in student_info:\n",
        "  print(key, \":\", student_info[key])"
      ],
      "metadata": {
        "id": "7a7TdJPXxGlO"
      },
      "execution_count": null,
      "outputs": []
    },
    {
      "cell_type": "code",
      "source": [
        "'major' in student_info"
      ],
      "metadata": {
        "colab": {
          "base_uri": "https://localhost:8080/"
        },
        "id": "tTztbLn3ttOw",
        "outputId": "b4f8a208-e315-4d4d-9dc0-a399ed2e6b97"
      },
      "execution_count": null,
      "outputs": [
        {
          "output_type": "execute_result",
          "data": {
            "text/plain": [
              "True"
            ]
          },
          "metadata": {},
          "execution_count": 83
        }
      ]
    },
    {
      "cell_type": "code",
      "source": [
        "course_info = {'course_name': 'Python Programming', 'professor': 'Dr. Smith', 'semester': 'Spring 2024'}\n",
        "student_info.update(course_info)\n",
        "print(student_info)"
      ],
      "metadata": {
        "id": "SuyD4Nv2xHWY",
        "colab": {
          "base_uri": "https://localhost:8080/"
        },
        "outputId": "0979a0e9-c3f7-4822-dc7a-f8071c5f7738"
      },
      "execution_count": null,
      "outputs": [
        {
          "output_type": "stream",
          "name": "stdout",
          "text": [
            "{'name': 'Alice', 'city': 'London', 'major': 'Computer Science', 'course_name': 'Python Programming', 'professor': 'Dr. Smith', 'semester': 'Spring 2024'}\n"
          ]
        }
      ]
    },
    {
      "cell_type": "code",
      "source": [
        "family = {'members': {'father': {'name': 'Juan', 'age': 40, 'relationship': 'Father'}, 'mother': {'name': 'Marie', 'age': 40, 'relationship': 'Mother'}}}\n",
        "print(family['members']['father'])\n",
        "print(family['members']['mother'])"
      ],
      "metadata": {
        "colab": {
          "base_uri": "https://localhost:8080/"
        },
        "id": "yxDiTpvnyZiw",
        "outputId": "0bfccf7b-6ed4-4087-d430-81bf146f5313"
      },
      "execution_count": null,
      "outputs": [
        {
          "output_type": "stream",
          "name": "stdout",
          "text": [
            "{'name': 'Juan', 'age': 40, 'relationship': 'Father'}\n",
            "{'name': 'Marie', 'age': 40, 'relationship': 'Mother'}\n"
          ]
        }
      ]
    },
    {
      "cell_type": "code",
      "source": [
        "squares = {num: num ** 2 for num in range(1, 11)}\n",
        "print(squares)"
      ],
      "metadata": {
        "colab": {
          "base_uri": "https://localhost:8080/"
        },
        "id": "Fwa05WY8z5tb",
        "outputId": "4683e591-1b88-4941-d439-0cb99dc88d65"
      },
      "execution_count": null,
      "outputs": [
        {
          "output_type": "stream",
          "name": "stdout",
          "text": [
            "{1: 1, 2: 4, 3: 9, 4: 16, 5: 25, 6: 36, 7: 49, 8: 64, 9: 81, 10: 100}\n"
          ]
        }
      ]
    },
    {
      "cell_type": "code",
      "source": [
        "string = 'Hello World'\n",
        "lowercase_string = string.lower()\n",
        "replaced_string = string.replace('World', 'Python')\n",
        "substring = string.split()[0]\n",
        "print (lowercase_string)\n",
        "print (replaced_string)\n",
        "print (substring)"
      ],
      "metadata": {
        "colab": {
          "base_uri": "https://localhost:8080/"
        },
        "id": "5RsYcXn42BW3",
        "outputId": "593aa983-bfce-469a-d74a-e03f212827b8"
      },
      "execution_count": null,
      "outputs": [
        {
          "output_type": "stream",
          "name": "stdout",
          "text": [
            "hello world\n",
            "Hello Python\n",
            "Hello\n"
          ]
        }
      ]
    },
    {
      "cell_type": "code",
      "source": [
        "import re\n",
        "text = 'The apple is red, the apple is sweet, but the apple fell from the tree'\n",
        "matches = re.findall('apple', text)\n",
        "print(matches)"
      ],
      "metadata": {
        "colab": {
          "base_uri": "https://localhost:8080/"
        },
        "id": "EML_qY2c6jmp",
        "outputId": "51294768-ee74-421a-9490-d0b32c5ab121"
      },
      "execution_count": null,
      "outputs": [
        {
          "output_type": "stream",
          "name": "stdout",
          "text": [
            "['apple', 'apple', 'apple']\n"
          ]
        }
      ]
    },
    {
      "cell_type": "markdown",
      "source": [
        "3. Exercises for Strings"
      ],
      "metadata": {
        "id": "HU0yoPzEatiL"
      }
    },
    {
      "cell_type": "code",
      "source": [
        "\n",
        "my_name = 'Briyitt'"
      ],
      "metadata": {
        "id": "E4I0gBZj4NMS"
      },
      "execution_count": null,
      "outputs": []
    },
    {
      "cell_type": "code",
      "source": [
        "print(my_name[0])\n"
      ],
      "metadata": {
        "colab": {
          "base_uri": "https://localhost:8080/"
        },
        "id": "JNs6-7dP09in",
        "outputId": "48d8e0b8-274e-4f26-cd08-3b2d6c6bfda6"
      },
      "execution_count": null,
      "outputs": [
        {
          "output_type": "stream",
          "name": "stdout",
          "text": [
            "B\n"
          ]
        }
      ]
    },
    {
      "cell_type": "code",
      "source": [
        "print(len(my_name))"
      ],
      "metadata": {
        "colab": {
          "base_uri": "https://localhost:8080/"
        },
        "id": "DfHMFNF91FEB",
        "outputId": "e6d63ad8-f779-4155-991c-ecbb62b003c7"
      },
      "execution_count": null,
      "outputs": [
        {
          "output_type": "stream",
          "name": "stdout",
          "text": [
            "7\n"
          ]
        }
      ]
    },
    {
      "cell_type": "code",
      "source": [
        "first_name = my_name.split()[0]"
      ],
      "metadata": {
        "id": "Gv5cGV0C1JXk"
      },
      "execution_count": null,
      "outputs": []
    },
    {
      "cell_type": "code",
      "source": [
        "greeting_message = 'Hello, ' + my_name\n",
        "print(greeting_message)"
      ],
      "metadata": {
        "colab": {
          "base_uri": "https://localhost:8080/"
        },
        "id": "zHfYCCmC1ZUT",
        "outputId": "7144b849-90f4-4de8-89fc-180d2334b523"
      },
      "execution_count": null,
      "outputs": [
        {
          "output_type": "stream",
          "name": "stdout",
          "text": [
            "Hello, Briyitt\n"
          ]
        }
      ]
    },
    {
      "cell_type": "code",
      "source": [
        "favorite_number = 16\n",
        "formatted_sentence = f\"My favorite number is {favorite_number}\"\n",
        "print(formatted_sentence)"
      ],
      "metadata": {
        "colab": {
          "base_uri": "https://localhost:8080/"
        },
        "id": "E5njS2pl1jVT",
        "outputId": "ae84ba2f-8b21-4c4f-941e-0ee1bf8d6147"
      },
      "execution_count": null,
      "outputs": [
        {
          "output_type": "stream",
          "name": "stdout",
          "text": [
            "My favorite number is 16\n"
          ]
        }
      ]
    },
    {
      "cell_type": "code",
      "source": [
        "uppercase_name = my_name.upper()\n",
        "lowercase_name = my_name.lower()\n",
        "print(uppercase_name)\n",
        "print(lowercase_name)"
      ],
      "metadata": {
        "colab": {
          "base_uri": "https://localhost:8080/"
        },
        "id": "3SNsmEtU1yhM",
        "outputId": "a3845e9d-9dbc-4f8c-d0b9-28b3ee21aca2"
      },
      "execution_count": null,
      "outputs": [
        {
          "output_type": "stream",
          "name": "stdout",
          "text": [
            "BRIYITT\n",
            "briyitt\n"
          ]
        }
      ]
    },
    {
      "cell_type": "code",
      "source": [
        "'a' in my_name"
      ],
      "metadata": {
        "colab": {
          "base_uri": "https://localhost:8080/"
        },
        "id": "3UzaIBkp17YY",
        "outputId": "518d3c41-337f-40de-c57c-b559d7e019d7"
      },
      "execution_count": null,
      "outputs": [
        {
          "output_type": "execute_result",
          "data": {
            "text/plain": [
              "False"
            ]
          },
          "metadata": {},
          "execution_count": 14
        }
      ]
    },
    {
      "cell_type": "code",
      "source": [
        "'e' in my_name"
      ],
      "metadata": {
        "colab": {
          "base_uri": "https://localhost:8080/"
        },
        "id": "EGZP7O5-2GWm",
        "outputId": "18e9010b-6099-4492-d4bd-cb6c8e6817a0"
      },
      "execution_count": null,
      "outputs": [
        {
          "output_type": "execute_result",
          "data": {
            "text/plain": [
              "False"
            ]
          },
          "metadata": {},
          "execution_count": 16
        }
      ]
    },
    {
      "cell_type": "code",
      "source": [
        "name_with_replacement = my_name.replace('e', 'x')\n",
        "print(name_with_replacement)"
      ],
      "metadata": {
        "colab": {
          "base_uri": "https://localhost:8080/"
        },
        "id": "WJaUzkeC2c9P",
        "outputId": "9b6a5583-fc83-4fd7-85c6-f9bd067d1bfe"
      },
      "execution_count": null,
      "outputs": [
        {
          "output_type": "stream",
          "name": "stdout",
          "text": [
            "Briyitt\n"
          ]
        }
      ]
    },
    {
      "cell_type": "code",
      "source": [
        "sentence = \"This is a sentence with multiple words\"\n",
        "words_list = sentence.split()\n",
        "print(words_list)"
      ],
      "metadata": {
        "colab": {
          "base_uri": "https://localhost:8080/"
        },
        "id": "kpr9mCYA2hod",
        "outputId": "c6332d2d-6da9-4335-81a9-a019bc4a78a5"
      },
      "execution_count": null,
      "outputs": [
        {
          "output_type": "stream",
          "name": "stdout",
          "text": [
            "['This', 'is', 'a', 'sentence', 'with', 'multiple', 'words']\n"
          ]
        }
      ]
    },
    {
      "cell_type": "code",
      "source": [
        "reversed_name = my_name[::-1]\n",
        "print(reversed_name)"
      ],
      "metadata": {
        "colab": {
          "base_uri": "https://localhost:8080/"
        },
        "id": "iW0Qx8tv2yDO",
        "outputId": "7d9140db-ca83-4a54-d5a7-3f3a2b3040f7"
      },
      "execution_count": null,
      "outputs": [
        {
          "output_type": "stream",
          "name": "stdout",
          "text": [
            "ttiyirB\n"
          ]
        }
      ]
    },
    {
      "cell_type": "code",
      "source": [
        "def is_palindrome(s):\n",
        "  s = s.replace(\" \", \"\").lower()\n",
        "  return s == s[::-1]"
      ],
      "metadata": {
        "id": "ejam2p1R34OD"
      },
      "execution_count": null,
      "outputs": []
    },
    {
      "cell_type": "code",
      "source": [
        "is_palindrome(\"Ana\")"
      ],
      "metadata": {
        "colab": {
          "base_uri": "https://localhost:8080/"
        },
        "id": "EwicC2hX4MvY",
        "outputId": "60bee33d-a9d6-422f-943b-3fce6ca73215"
      },
      "execution_count": null,
      "outputs": [
        {
          "output_type": "execute_result",
          "data": {
            "text/plain": [
              "True"
            ]
          },
          "metadata": {},
          "execution_count": 32
        }
      ]
    }
  ]
}