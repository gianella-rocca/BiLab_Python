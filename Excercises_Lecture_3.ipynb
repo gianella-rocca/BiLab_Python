{
  "cells": [
    {
      "cell_type": "markdown",
      "metadata": {
        "id": "view-in-github",
        "colab_type": "text"
      },
      "source": [
        "<a href=\"https://colab.research.google.com/github/gianella-rocca/BiLab_Python/blob/main/Clase_3.ipynb\" target=\"_parent\"><img src=\"https://colab.research.google.com/assets/colab-badge.svg\" alt=\"Open In Colab\"/></a>"
      ]
    },
    {
      "cell_type": "markdown",
      "metadata": {
        "id": "oB3elteq-5AW"
      },
      "source": [
        "## 1.4 Pandas\n",
        "\n",
        "You can and should always ask ChatGPT, BARD, Bing, etc.\n",
        "In this exercise, you will work with financial data. Follow the steps below:\n",
        "\n",
        "1. Load Data:\n",
        "   Load the financial data available at this URL:    https://raw.githubusercontent.com/datasets/finance-vix/main/data/vix-daily.csv\n",
        "   Use `pd.read_csv()` adn the link to load the data into a DataFrame.\n",
        "\n",
        "2. Explore Data:\n",
        "   a) Display the first five rows of the DataFrame.\n",
        "   b) Display the summary statistics of the DataFrame.\n",
        "\n",
        "3. Add Columns:\n",
        "   a) Add a new column 'Level' that categorizes the 'Close' column values into 'Low' (< 20), 'Medium' (20-30), and 'High' (>30). You need to make a filter to make this categorization. You can see below some suggestions how to do it.\n",
        "   b) Add a new column 'Year' extracted from the 'Date' column. You need to work with dates. You can do it directly workiwith the column splitting it or changing it to date format an dfollowing the below suggestion.\n",
        "\n",
        "4. Add Rows:\n",
        "   a) Add a new row with a date of your choice and fill the other columns with appropriate values.\n",
        "\n",
        "5. Analysis:\n",
        "   a) Calculate the average of the column 'Close' for each 'Year'. You need to group for this task.\n",
        "   b) Count the number of 'High', 'Medium', and 'Low'  Level days in the data.\n",
        "\n",
        "Suggestions:\n",
        "   - Use `pd.cut()` for categorizing 'Close' values.\n",
        "   - Use `pd.to_datetime()` and `dt.year` to extract the year from a date.\n",
        "   - Use `DataFrame.append()` or `pd.concat()` to add rows.\n",
        "   - Use `groupby()` for aggregation tasks."
      ]
    },
    {
      "cell_type": "markdown",
      "source": [
        "1."
      ],
      "metadata": {
        "id": "FsNfUUwUEhRe"
      }
    },
    {
      "cell_type": "code",
      "source": [
        "import pandas as pd"
      ],
      "metadata": {
        "id": "ScO0vrNe-8DR"
      },
      "execution_count": null,
      "outputs": []
    },
    {
      "cell_type": "code",
      "source": [
        "url= 'https://raw.githubusercontent.com/datasets/finance-vix/main/data/vix-daily.csv'"
      ],
      "metadata": {
        "id": "TF31isGI-9UC"
      },
      "execution_count": null,
      "outputs": []
    },
    {
      "cell_type": "code",
      "source": [
        "df= pd.read_csv(url)"
      ],
      "metadata": {
        "id": "mH00prNP-_x4"
      },
      "execution_count": null,
      "outputs": []
    },
    {
      "cell_type": "markdown",
      "source": [],
      "metadata": {
        "id": "edm-kX8c_4fB"
      }
    },
    {
      "cell_type": "markdown",
      "source": [
        "2a\n"
      ],
      "metadata": {
        "id": "HCmd8zCS_8VO"
      }
    },
    {
      "cell_type": "code",
      "source": [
        "df.head(5)\n"
      ],
      "metadata": {
        "id": "v5z40qGn_-la",
        "outputId": "d9bc4eb7-b791-48e9-96e4-5b5659b4fe6c",
        "colab": {
          "base_uri": "https://localhost:8080/",
          "height": 206
        }
      },
      "execution_count": null,
      "outputs": [
        {
          "output_type": "execute_result",
          "data": {
            "text/plain": [
              "         DATE   OPEN   HIGH    LOW  CLOSE\n",
              "0  01/02/1990  17.24  17.24  17.24  17.24\n",
              "1  01/03/1990  18.19  18.19  18.19  18.19\n",
              "2  01/04/1990  19.22  19.22  19.22  19.22\n",
              "3  01/05/1990  20.11  20.11  20.11  20.11\n",
              "4  01/08/1990  20.26  20.26  20.26  20.26"
            ],
            "text/html": [
              "\n",
              "  <div id=\"df-7440bdbb-7c2a-49ca-be77-950ca0945679\" class=\"colab-df-container\">\n",
              "    <div>\n",
              "<style scoped>\n",
              "    .dataframe tbody tr th:only-of-type {\n",
              "        vertical-align: middle;\n",
              "    }\n",
              "\n",
              "    .dataframe tbody tr th {\n",
              "        vertical-align: top;\n",
              "    }\n",
              "\n",
              "    .dataframe thead th {\n",
              "        text-align: right;\n",
              "    }\n",
              "</style>\n",
              "<table border=\"1\" class=\"dataframe\">\n",
              "  <thead>\n",
              "    <tr style=\"text-align: right;\">\n",
              "      <th></th>\n",
              "      <th>DATE</th>\n",
              "      <th>OPEN</th>\n",
              "      <th>HIGH</th>\n",
              "      <th>LOW</th>\n",
              "      <th>CLOSE</th>\n",
              "    </tr>\n",
              "  </thead>\n",
              "  <tbody>\n",
              "    <tr>\n",
              "      <th>0</th>\n",
              "      <td>01/02/1990</td>\n",
              "      <td>17.24</td>\n",
              "      <td>17.24</td>\n",
              "      <td>17.24</td>\n",
              "      <td>17.24</td>\n",
              "    </tr>\n",
              "    <tr>\n",
              "      <th>1</th>\n",
              "      <td>01/03/1990</td>\n",
              "      <td>18.19</td>\n",
              "      <td>18.19</td>\n",
              "      <td>18.19</td>\n",
              "      <td>18.19</td>\n",
              "    </tr>\n",
              "    <tr>\n",
              "      <th>2</th>\n",
              "      <td>01/04/1990</td>\n",
              "      <td>19.22</td>\n",
              "      <td>19.22</td>\n",
              "      <td>19.22</td>\n",
              "      <td>19.22</td>\n",
              "    </tr>\n",
              "    <tr>\n",
              "      <th>3</th>\n",
              "      <td>01/05/1990</td>\n",
              "      <td>20.11</td>\n",
              "      <td>20.11</td>\n",
              "      <td>20.11</td>\n",
              "      <td>20.11</td>\n",
              "    </tr>\n",
              "    <tr>\n",
              "      <th>4</th>\n",
              "      <td>01/08/1990</td>\n",
              "      <td>20.26</td>\n",
              "      <td>20.26</td>\n",
              "      <td>20.26</td>\n",
              "      <td>20.26</td>\n",
              "    </tr>\n",
              "  </tbody>\n",
              "</table>\n",
              "</div>\n",
              "    <div class=\"colab-df-buttons\">\n",
              "\n",
              "  <div class=\"colab-df-container\">\n",
              "    <button class=\"colab-df-convert\" onclick=\"convertToInteractive('df-7440bdbb-7c2a-49ca-be77-950ca0945679')\"\n",
              "            title=\"Convert this dataframe to an interactive table.\"\n",
              "            style=\"display:none;\">\n",
              "\n",
              "  <svg xmlns=\"http://www.w3.org/2000/svg\" height=\"24px\" viewBox=\"0 -960 960 960\">\n",
              "    <path d=\"M120-120v-720h720v720H120Zm60-500h600v-160H180v160Zm220 220h160v-160H400v160Zm0 220h160v-160H400v160ZM180-400h160v-160H180v160Zm440 0h160v-160H620v160ZM180-180h160v-160H180v160Zm440 0h160v-160H620v160Z\"/>\n",
              "  </svg>\n",
              "    </button>\n",
              "\n",
              "  <style>\n",
              "    .colab-df-container {\n",
              "      display:flex;\n",
              "      gap: 12px;\n",
              "    }\n",
              "\n",
              "    .colab-df-convert {\n",
              "      background-color: #E8F0FE;\n",
              "      border: none;\n",
              "      border-radius: 50%;\n",
              "      cursor: pointer;\n",
              "      display: none;\n",
              "      fill: #1967D2;\n",
              "      height: 32px;\n",
              "      padding: 0 0 0 0;\n",
              "      width: 32px;\n",
              "    }\n",
              "\n",
              "    .colab-df-convert:hover {\n",
              "      background-color: #E2EBFA;\n",
              "      box-shadow: 0px 1px 2px rgba(60, 64, 67, 0.3), 0px 1px 3px 1px rgba(60, 64, 67, 0.15);\n",
              "      fill: #174EA6;\n",
              "    }\n",
              "\n",
              "    .colab-df-buttons div {\n",
              "      margin-bottom: 4px;\n",
              "    }\n",
              "\n",
              "    [theme=dark] .colab-df-convert {\n",
              "      background-color: #3B4455;\n",
              "      fill: #D2E3FC;\n",
              "    }\n",
              "\n",
              "    [theme=dark] .colab-df-convert:hover {\n",
              "      background-color: #434B5C;\n",
              "      box-shadow: 0px 1px 3px 1px rgba(0, 0, 0, 0.15);\n",
              "      filter: drop-shadow(0px 1px 2px rgba(0, 0, 0, 0.3));\n",
              "      fill: #FFFFFF;\n",
              "    }\n",
              "  </style>\n",
              "\n",
              "    <script>\n",
              "      const buttonEl =\n",
              "        document.querySelector('#df-7440bdbb-7c2a-49ca-be77-950ca0945679 button.colab-df-convert');\n",
              "      buttonEl.style.display =\n",
              "        google.colab.kernel.accessAllowed ? 'block' : 'none';\n",
              "\n",
              "      async function convertToInteractive(key) {\n",
              "        const element = document.querySelector('#df-7440bdbb-7c2a-49ca-be77-950ca0945679');\n",
              "        const dataTable =\n",
              "          await google.colab.kernel.invokeFunction('convertToInteractive',\n",
              "                                                    [key], {});\n",
              "        if (!dataTable) return;\n",
              "\n",
              "        const docLinkHtml = 'Like what you see? Visit the ' +\n",
              "          '<a target=\"_blank\" href=https://colab.research.google.com/notebooks/data_table.ipynb>data table notebook</a>'\n",
              "          + ' to learn more about interactive tables.';\n",
              "        element.innerHTML = '';\n",
              "        dataTable['output_type'] = 'display_data';\n",
              "        await google.colab.output.renderOutput(dataTable, element);\n",
              "        const docLink = document.createElement('div');\n",
              "        docLink.innerHTML = docLinkHtml;\n",
              "        element.appendChild(docLink);\n",
              "      }\n",
              "    </script>\n",
              "  </div>\n",
              "\n",
              "\n",
              "<div id=\"df-41ba13da-0d91-48ef-8c67-68713a40b56d\">\n",
              "  <button class=\"colab-df-quickchart\" onclick=\"quickchart('df-41ba13da-0d91-48ef-8c67-68713a40b56d')\"\n",
              "            title=\"Suggest charts\"\n",
              "            style=\"display:none;\">\n",
              "\n",
              "<svg xmlns=\"http://www.w3.org/2000/svg\" height=\"24px\"viewBox=\"0 0 24 24\"\n",
              "     width=\"24px\">\n",
              "    <g>\n",
              "        <path d=\"M19 3H5c-1.1 0-2 .9-2 2v14c0 1.1.9 2 2 2h14c1.1 0 2-.9 2-2V5c0-1.1-.9-2-2-2zM9 17H7v-7h2v7zm4 0h-2V7h2v10zm4 0h-2v-4h2v4z\"/>\n",
              "    </g>\n",
              "</svg>\n",
              "  </button>\n",
              "\n",
              "<style>\n",
              "  .colab-df-quickchart {\n",
              "      --bg-color: #E8F0FE;\n",
              "      --fill-color: #1967D2;\n",
              "      --hover-bg-color: #E2EBFA;\n",
              "      --hover-fill-color: #174EA6;\n",
              "      --disabled-fill-color: #AAA;\n",
              "      --disabled-bg-color: #DDD;\n",
              "  }\n",
              "\n",
              "  [theme=dark] .colab-df-quickchart {\n",
              "      --bg-color: #3B4455;\n",
              "      --fill-color: #D2E3FC;\n",
              "      --hover-bg-color: #434B5C;\n",
              "      --hover-fill-color: #FFFFFF;\n",
              "      --disabled-bg-color: #3B4455;\n",
              "      --disabled-fill-color: #666;\n",
              "  }\n",
              "\n",
              "  .colab-df-quickchart {\n",
              "    background-color: var(--bg-color);\n",
              "    border: none;\n",
              "    border-radius: 50%;\n",
              "    cursor: pointer;\n",
              "    display: none;\n",
              "    fill: var(--fill-color);\n",
              "    height: 32px;\n",
              "    padding: 0;\n",
              "    width: 32px;\n",
              "  }\n",
              "\n",
              "  .colab-df-quickchart:hover {\n",
              "    background-color: var(--hover-bg-color);\n",
              "    box-shadow: 0 1px 2px rgba(60, 64, 67, 0.3), 0 1px 3px 1px rgba(60, 64, 67, 0.15);\n",
              "    fill: var(--button-hover-fill-color);\n",
              "  }\n",
              "\n",
              "  .colab-df-quickchart-complete:disabled,\n",
              "  .colab-df-quickchart-complete:disabled:hover {\n",
              "    background-color: var(--disabled-bg-color);\n",
              "    fill: var(--disabled-fill-color);\n",
              "    box-shadow: none;\n",
              "  }\n",
              "\n",
              "  .colab-df-spinner {\n",
              "    border: 2px solid var(--fill-color);\n",
              "    border-color: transparent;\n",
              "    border-bottom-color: var(--fill-color);\n",
              "    animation:\n",
              "      spin 1s steps(1) infinite;\n",
              "  }\n",
              "\n",
              "  @keyframes spin {\n",
              "    0% {\n",
              "      border-color: transparent;\n",
              "      border-bottom-color: var(--fill-color);\n",
              "      border-left-color: var(--fill-color);\n",
              "    }\n",
              "    20% {\n",
              "      border-color: transparent;\n",
              "      border-left-color: var(--fill-color);\n",
              "      border-top-color: var(--fill-color);\n",
              "    }\n",
              "    30% {\n",
              "      border-color: transparent;\n",
              "      border-left-color: var(--fill-color);\n",
              "      border-top-color: var(--fill-color);\n",
              "      border-right-color: var(--fill-color);\n",
              "    }\n",
              "    40% {\n",
              "      border-color: transparent;\n",
              "      border-right-color: var(--fill-color);\n",
              "      border-top-color: var(--fill-color);\n",
              "    }\n",
              "    60% {\n",
              "      border-color: transparent;\n",
              "      border-right-color: var(--fill-color);\n",
              "    }\n",
              "    80% {\n",
              "      border-color: transparent;\n",
              "      border-right-color: var(--fill-color);\n",
              "      border-bottom-color: var(--fill-color);\n",
              "    }\n",
              "    90% {\n",
              "      border-color: transparent;\n",
              "      border-bottom-color: var(--fill-color);\n",
              "    }\n",
              "  }\n",
              "</style>\n",
              "\n",
              "  <script>\n",
              "    async function quickchart(key) {\n",
              "      const quickchartButtonEl =\n",
              "        document.querySelector('#' + key + ' button');\n",
              "      quickchartButtonEl.disabled = true;  // To prevent multiple clicks.\n",
              "      quickchartButtonEl.classList.add('colab-df-spinner');\n",
              "      try {\n",
              "        const charts = await google.colab.kernel.invokeFunction(\n",
              "            'suggestCharts', [key], {});\n",
              "      } catch (error) {\n",
              "        console.error('Error during call to suggestCharts:', error);\n",
              "      }\n",
              "      quickchartButtonEl.classList.remove('colab-df-spinner');\n",
              "      quickchartButtonEl.classList.add('colab-df-quickchart-complete');\n",
              "    }\n",
              "    (() => {\n",
              "      let quickchartButtonEl =\n",
              "        document.querySelector('#df-41ba13da-0d91-48ef-8c67-68713a40b56d button');\n",
              "      quickchartButtonEl.style.display =\n",
              "        google.colab.kernel.accessAllowed ? 'block' : 'none';\n",
              "    })();\n",
              "  </script>\n",
              "</div>\n",
              "\n",
              "    </div>\n",
              "  </div>\n"
            ]
          },
          "metadata": {},
          "execution_count": 47
        }
      ]
    },
    {
      "cell_type": "markdown",
      "source": [
        "2b"
      ],
      "metadata": {
        "id": "QFl6sEcLAILe"
      }
    },
    {
      "cell_type": "code",
      "source": [
        "summary_stats = df.describe()\n",
        "print(summary_stats)\n"
      ],
      "metadata": {
        "id": "-dzEhSz4AMJj",
        "outputId": "df465962-747b-4a22-9f1d-c348295bc740",
        "colab": {
          "base_uri": "https://localhost:8080/"
        }
      },
      "execution_count": null,
      "outputs": [
        {
          "output_type": "stream",
          "name": "stdout",
          "text": [
            "              OPEN         HIGH          LOW        CLOSE\n",
            "count  8578.000000  8578.000000  8578.000000  8578.000000\n",
            "mean     19.665794    20.473630    18.914197    19.579616\n",
            "std       7.978835     8.439709     7.469663     7.906064\n",
            "min       9.010000     9.310000     8.560000     9.140000\n",
            "25%      13.940000    14.540000    13.400000    13.880000\n",
            "50%      17.790000    18.465000    17.215000    17.760000\n",
            "75%      23.097500    23.960000    22.320000    22.990000\n",
            "max      82.690000    89.530000    72.760000    82.690000\n"
          ]
        }
      ]
    },
    {
      "cell_type": "markdown",
      "source": [
        "3a"
      ],
      "metadata": {
        "id": "aOAaUYYCAc1g"
      }
    },
    {
      "cell_type": "code",
      "source": [
        "df[\"LEVEL\"] = pd.cut(df[\"CLOSE\"], bins=[0, 20, 30, float(\"inf\")], labels=[\"Low\", \"Medium\", \"High\"])\n",
        "\n",
        "print(df[\"LEVEL\"])"
      ],
      "metadata": {
        "id": "AX5Ns-92Ah-R",
        "outputId": "84bb5d0b-6546-4ae6-f017-c2c16c470432",
        "colab": {
          "base_uri": "https://localhost:8080/"
        }
      },
      "execution_count": null,
      "outputs": [
        {
          "output_type": "stream",
          "name": "stdout",
          "text": [
            "0          Low\n",
            "1          Low\n",
            "2          Low\n",
            "3       Medium\n",
            "4       Medium\n",
            "         ...  \n",
            "8573       Low\n",
            "8574       Low\n",
            "8575       Low\n",
            "8576       Low\n",
            "8577       Low\n",
            "Name: LEVEL, Length: 8578, dtype: category\n",
            "Categories (3, object): ['Low' < 'Medium' < 'High']\n"
          ]
        }
      ]
    },
    {
      "cell_type": "markdown",
      "source": [
        "3b"
      ],
      "metadata": {
        "id": "8chGyf12DGfh"
      }
    },
    {
      "cell_type": "code",
      "source": [
        "df['YEAR'] = pd.to_datetime(df['DATE']).dt.year\n",
        "print(df['YEAR'])"
      ],
      "metadata": {
        "id": "8jMAa_PqDJF7",
        "outputId": "b3b54549-6981-4590-926f-f85455ef714d",
        "colab": {
          "base_uri": "https://localhost:8080/"
        }
      },
      "execution_count": null,
      "outputs": [
        {
          "output_type": "stream",
          "name": "stdout",
          "text": [
            "0       1990\n",
            "1       1990\n",
            "2       1990\n",
            "3       1990\n",
            "4       1990\n",
            "        ... \n",
            "8573    2024\n",
            "8574    2024\n",
            "8575    2024\n",
            "8576    2024\n",
            "8577    2024\n",
            "Name: YEAR, Length: 8578, dtype: int64\n"
          ]
        }
      ]
    },
    {
      "cell_type": "markdown",
      "source": [
        "4."
      ],
      "metadata": {
        "id": "byuUPQKmBEdp"
      }
    },
    {
      "cell_type": "code",
      "source": [
        "new_row = {'DATE': '10/01/2024', 'OPEN': 20.0, 'HIGH': 25.0, 'LOW': 15.0, 'CLOSE': 22.5, 'ADJ CLOSE': 22.5, 'VOLUME': 1000, 'LEVEL': 'Medium', 'YEAR': 2024}\n",
        "df = df.append(new_row, ignore_index=True)\n",
        "print (df)"
      ],
      "metadata": {
        "id": "JoPfv_pYAphg",
        "outputId": "6854d323-ceca-4b50-c007-631cb5e877c1",
        "colab": {
          "base_uri": "https://localhost:8080/"
        }
      },
      "execution_count": null,
      "outputs": [
        {
          "output_type": "stream",
          "name": "stdout",
          "text": [
            "            DATE   OPEN   HIGH    LOW  CLOSE   LEVEL  YEAR  ADJ CLOSE  VOLUME\n",
            "0     01/02/1990  17.24  17.24  17.24  17.24     Low  1990        NaN     NaN\n",
            "1     01/03/1990  18.19  18.19  18.19  18.19     Low  1990        NaN     NaN\n",
            "2     01/04/1990  19.22  19.22  19.22  19.22     Low  1990        NaN     NaN\n",
            "3     01/05/1990  20.11  20.11  20.11  20.11  Medium  1990        NaN     NaN\n",
            "4     01/08/1990  20.26  20.26  20.26  20.26  Medium  1990        NaN     NaN\n",
            "...          ...    ...    ...    ...    ...     ...   ...        ...     ...\n",
            "8574  01/03/2024  13.35  14.22  13.33  14.04     Low  2024        NaN     NaN\n",
            "8575  01/04/2024  13.93  14.20  13.64  14.13     Low  2024        NaN     NaN\n",
            "8576  01/05/2024  14.24  14.58  13.29  13.35     Low  2024        NaN     NaN\n",
            "8577  01/08/2024  14.00  14.18  13.02  13.08     Low  2024        NaN     NaN\n",
            "8578  10/01/2024  20.00  25.00  15.00  22.50  Medium  2024       22.5  1000.0\n",
            "\n",
            "[8579 rows x 9 columns]\n"
          ]
        },
        {
          "output_type": "stream",
          "name": "stderr",
          "text": [
            "<ipython-input-51-45c04ea0b2b7>:2: FutureWarning: The frame.append method is deprecated and will be removed from pandas in a future version. Use pandas.concat instead.\n",
            "  df = df.append(new_row, ignore_index=True)\n"
          ]
        }
      ]
    },
    {
      "cell_type": "markdown",
      "source": [
        "5a."
      ],
      "metadata": {
        "id": "4i_r8PVuD9On"
      }
    },
    {
      "cell_type": "code",
      "source": [
        "average_close_per_year = df.groupby('YEAR')['CLOSE'].mean()\n",
        "print(average_close_per_year)\n"
      ],
      "metadata": {
        "id": "wCyeWJppBCQT",
        "outputId": "c2cfc5a8-b310-444a-f52f-fc427e271a19",
        "colab": {
          "base_uri": "https://localhost:8080/"
        }
      },
      "execution_count": null,
      "outputs": [
        {
          "output_type": "stream",
          "name": "stdout",
          "text": [
            "YEAR\n",
            "1990    23.063478\n",
            "1991    18.373373\n",
            "1992    15.452047\n",
            "1993    12.686245\n",
            "1994    13.925516\n",
            "1995    12.388770\n",
            "1996    16.442165\n",
            "1997    22.363984\n",
            "1998    25.602976\n",
            "1999    24.371912\n",
            "2000    23.315000\n",
            "2001    25.749677\n",
            "2002    27.292460\n",
            "2003    21.982857\n",
            "2004    15.479644\n",
            "2005    12.807063\n",
            "2006    12.810320\n",
            "2007    17.535936\n",
            "2008    32.695534\n",
            "2009    31.479008\n",
            "2010    22.548889\n",
            "2011    24.202579\n",
            "2012    17.801640\n",
            "2013    14.230119\n",
            "2014    14.175992\n",
            "2015    16.674087\n",
            "2016    15.825635\n",
            "2017    11.090239\n",
            "2018    16.639841\n",
            "2019    15.387540\n",
            "2020    29.251304\n",
            "2021    19.656151\n",
            "2022    25.637148\n",
            "2023    16.849027\n",
            "2024    15.050000\n",
            "Name: CLOSE, dtype: float64\n"
          ]
        }
      ]
    },
    {
      "cell_type": "markdown",
      "source": [
        "5b."
      ],
      "metadata": {
        "id": "4gYgqOwSEFYN"
      }
    },
    {
      "cell_type": "code",
      "source": [
        "level_counts = df['LEVEL'].value_counts()\n",
        "print(level_counts)\n"
      ],
      "metadata": {
        "id": "YgavGqy8D7Sg",
        "outputId": "579aff97-da92-4ad1-82b6-a8ba08fa5325",
        "colab": {
          "base_uri": "https://localhost:8080/"
        }
      },
      "execution_count": null,
      "outputs": [
        {
          "output_type": "stream",
          "name": "stdout",
          "text": [
            "Low       5276\n",
            "Medium    2583\n",
            "High       720\n",
            "Name: LEVEL, dtype: int64\n"
          ]
        }
      ]
    },
    {
      "cell_type": "code",
      "source": [],
      "metadata": {
        "id": "N6TCCSKBEEAb"
      },
      "execution_count": null,
      "outputs": []
    }
  ],
  "metadata": {
    "hide_input": false,
    "kernelspec": {
      "display_name": "Python 3 (ipykernel)",
      "language": "python",
      "name": "python3"
    },
    "language_info": {
      "codemirror_mode": {
        "name": "ipython",
        "version": 3
      },
      "file_extension": ".py",
      "mimetype": "text/x-python",
      "name": "python",
      "nbconvert_exporter": "python",
      "pygments_lexer": "ipython3",
      "version": "3.11.5"
    },
    "toc": {
      "base_numbering": 1,
      "nav_menu": {},
      "number_sections": true,
      "sideBar": true,
      "skip_h1_title": false,
      "title_cell": "Table of Contents",
      "title_sidebar": "Contents",
      "toc_cell": false,
      "toc_position": {},
      "toc_section_display": true,
      "toc_window_display": false
    },
    "colab": {
      "provenance": [],
      "include_colab_link": true
    }
  },
  "nbformat": 4,
  "nbformat_minor": 0
}
